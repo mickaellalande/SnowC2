{
 "cells": [
  {
   "cell_type": "code",
   "execution_count": 1,
   "id": "ea694ea4-68c7-4f96-bd71-9aab14b9b58d",
   "metadata": {},
   "outputs": [
    {
     "name": "stdout",
     "output_type": "stream",
     "text": [
      "\n",
      "surface_net_solar_radiation\n",
      "2025\n",
      "06\n"
     ]
    },
    {
     "name": "stderr",
     "output_type": "stream",
     "text": [
      "2025-08-18 10:28:17,302 INFO [2024-09-26T00:00:00] Watch our [Forum](https://forum.ecmwf.int/) for Announcements, news and other discussed topics.\n",
      "2025-08-18 10:28:19,417 INFO Request ID is b7553470-dd89-4d37-b612-2a8af0a167f4\n",
      "2025-08-18 10:28:19,728 INFO status has been updated to accepted\n",
      "2025-08-18 10:28:53,455 INFO status has been updated to running\n",
      "2025-08-18 10:32:40,398 INFO status has been updated to successful\n"
     ]
    },
    {
     "data": {
      "application/vnd.jupyter.widget-view+json": {
       "model_id": "",
       "version_major": 2,
       "version_minor": 0
      },
      "text/plain": [
       "2652d36f34b28d99c21f8a3faa166bc4.nc:   0%|          | 0.00/82.4k [00:00<?, ?B/s]"
      ]
     },
     "metadata": {},
     "output_type": "display_data"
    },
    {
     "name": "stdout",
     "output_type": "stream",
     "text": [
      "07\n"
     ]
    },
    {
     "name": "stderr",
     "output_type": "stream",
     "text": [
      "2025-08-18 10:32:42,872 INFO [2024-09-26T00:00:00] Watch our [Forum](https://forum.ecmwf.int/) for Announcements, news and other discussed topics.\n",
      "2025-08-18 10:32:43,561 INFO Request ID is a43effc8-b65f-4b70-9a4e-f90b73bb8836\n",
      "2025-08-18 10:32:43,724 INFO status has been updated to accepted\n",
      "2025-08-18 10:32:53,030 INFO status has been updated to running\n",
      "2025-08-18 10:35:37,531 INFO status has been updated to successful\n"
     ]
    },
    {
     "data": {
      "application/vnd.jupyter.widget-view+json": {
       "model_id": "",
       "version_major": 2,
       "version_minor": 0
      },
      "text/plain": [
       "5bfa4086b9234d6f6545986ee2d17565.nc:   0%|          | 0.00/83.3k [00:00<?, ?B/s]"
      ]
     },
     "metadata": {},
     "output_type": "display_data"
    },
    {
     "name": "stdout",
     "output_type": "stream",
     "text": [
      "08\n"
     ]
    },
    {
     "name": "stderr",
     "output_type": "stream",
     "text": [
      "2025-08-18 10:35:39,289 INFO [2024-09-26T00:00:00] Watch our [Forum](https://forum.ecmwf.int/) for Announcements, news and other discussed topics.\n",
      "2025-08-18 10:35:39,595 INFO Request ID is a5ceae9b-f8f5-4bb6-b7a6-c2e0919d3c7b\n",
      "2025-08-18 10:35:39,787 INFO status has been updated to accepted\n",
      "2025-08-18 10:35:48,506 INFO status has been updated to running\n",
      "2025-08-18 10:37:34,721 INFO status has been updated to successful\n"
     ]
    },
    {
     "data": {
      "application/vnd.jupyter.widget-view+json": {
       "model_id": "",
       "version_major": 2,
       "version_minor": 0
      },
      "text/plain": [
       "1b12fbba35410f8c1357a6df2bbb7fb9.nc:   0%|          | 0.00/43.5k [00:00<?, ?B/s]"
      ]
     },
     "metadata": {},
     "output_type": "display_data"
    },
    {
     "name": "stdout",
     "output_type": "stream",
     "text": [
      "\n",
      "surface_net_thermal_radiation\n",
      "2025\n",
      "06\n"
     ]
    },
    {
     "name": "stderr",
     "output_type": "stream",
     "text": [
      "2025-08-18 10:37:36,366 INFO [2024-09-26T00:00:00] Watch our [Forum](https://forum.ecmwf.int/) for Announcements, news and other discussed topics.\n",
      "2025-08-18 10:37:36,827 INFO Request ID is 6ad8b8ff-0504-4178-98b9-f8d8c24ec5f3\n",
      "2025-08-18 10:37:36,977 INFO status has been updated to accepted\n",
      "2025-08-18 10:37:45,707 INFO status has been updated to running\n",
      "2025-08-18 10:40:30,035 INFO status has been updated to successful\n"
     ]
    },
    {
     "data": {
      "application/vnd.jupyter.widget-view+json": {
       "model_id": "",
       "version_major": 2,
       "version_minor": 0
      },
      "text/plain": [
       "deeb4acb2533f047bafb21c7c08171f8.nc:   0%|          | 0.00/82.4k [00:00<?, ?B/s]"
      ]
     },
     "metadata": {},
     "output_type": "display_data"
    },
    {
     "name": "stdout",
     "output_type": "stream",
     "text": [
      "07\n"
     ]
    },
    {
     "name": "stderr",
     "output_type": "stream",
     "text": [
      "2025-08-18 10:40:32,119 INFO [2024-09-26T00:00:00] Watch our [Forum](https://forum.ecmwf.int/) for Announcements, news and other discussed topics.\n",
      "2025-08-18 10:40:32,467 INFO Request ID is 5bbe9f02-3d78-4f62-a935-d0f45decfb3d\n",
      "2025-08-18 10:40:32,807 INFO status has been updated to accepted\n",
      "2025-08-18 10:40:46,921 INFO status has been updated to running\n",
      "2025-08-18 10:43:26,311 INFO status has been updated to successful\n"
     ]
    },
    {
     "data": {
      "application/vnd.jupyter.widget-view+json": {
       "model_id": "",
       "version_major": 2,
       "version_minor": 0
      },
      "text/plain": [
       "59ba3df45ad0bb6c255a7d519a1a24ae.nc:   0%|          | 0.00/83.3k [00:00<?, ?B/s]"
      ]
     },
     "metadata": {},
     "output_type": "display_data"
    },
    {
     "name": "stdout",
     "output_type": "stream",
     "text": [
      "08\n"
     ]
    },
    {
     "name": "stderr",
     "output_type": "stream",
     "text": [
      "2025-08-18 10:43:28,050 INFO [2024-09-26T00:00:00] Watch our [Forum](https://forum.ecmwf.int/) for Announcements, news and other discussed topics.\n",
      "2025-08-18 10:43:28,465 INFO Request ID is 47975d43-8688-4223-9ea9-975d7bb9b127\n",
      "2025-08-18 10:43:28,607 INFO status has been updated to accepted\n",
      "2025-08-18 10:43:42,532 INFO status has been updated to running\n",
      "2025-08-18 10:44:44,879 INFO status has been updated to successful\n"
     ]
    },
    {
     "data": {
      "application/vnd.jupyter.widget-view+json": {
       "model_id": "",
       "version_major": 2,
       "version_minor": 0
      },
      "text/plain": [
       "150af95471458d8ca310beb38005e4c9.nc:   0%|          | 0.00/43.6k [00:00<?, ?B/s]"
      ]
     },
     "metadata": {},
     "output_type": "display_data"
    },
    {
     "name": "stdout",
     "output_type": "stream",
     "text": [
      "\n",
      "surface_solar_radiation_downwards\n",
      "2025\n",
      "06\n"
     ]
    },
    {
     "name": "stderr",
     "output_type": "stream",
     "text": [
      "2025-08-18 10:44:46,525 INFO [2024-09-26T00:00:00] Watch our [Forum](https://forum.ecmwf.int/) for Announcements, news and other discussed topics.\n",
      "2025-08-18 10:44:46,841 INFO Request ID is f9584d3f-8889-4d9e-96d4-102cfd135a87\n",
      "2025-08-18 10:44:46,974 INFO status has been updated to accepted\n",
      "2025-08-18 10:45:01,035 INFO status has been updated to running\n",
      "2025-08-18 10:47:40,157 INFO status has been updated to successful\n"
     ]
    },
    {
     "data": {
      "application/vnd.jupyter.widget-view+json": {
       "model_id": "",
       "version_major": 2,
       "version_minor": 0
      },
      "text/plain": [
       "6f3bee8d7edd47f79979f0dc79ae3f43.nc:   0%|          | 0.00/82.4k [00:00<?, ?B/s]"
      ]
     },
     "metadata": {},
     "output_type": "display_data"
    },
    {
     "name": "stdout",
     "output_type": "stream",
     "text": [
      "07\n"
     ]
    },
    {
     "name": "stderr",
     "output_type": "stream",
     "text": [
      "2025-08-18 10:47:42,231 INFO [2024-09-26T00:00:00] Watch our [Forum](https://forum.ecmwf.int/) for Announcements, news and other discussed topics.\n",
      "2025-08-18 10:47:42,548 INFO Request ID is 3d79108d-3c34-41f4-a9d5-ef1d882105f2\n",
      "2025-08-18 10:47:42,702 INFO status has been updated to accepted\n",
      "2025-08-18 10:47:51,431 INFO status has been updated to running\n",
      "2025-08-18 10:50:35,958 INFO status has been updated to successful\n"
     ]
    },
    {
     "data": {
      "application/vnd.jupyter.widget-view+json": {
       "model_id": "",
       "version_major": 2,
       "version_minor": 0
      },
      "text/plain": [
       "5e346b9031cf771b70cd24231de9e9e5.nc:   0%|          | 0.00/83.3k [00:00<?, ?B/s]"
      ]
     },
     "metadata": {},
     "output_type": "display_data"
    },
    {
     "name": "stdout",
     "output_type": "stream",
     "text": [
      "08\n"
     ]
    },
    {
     "name": "stderr",
     "output_type": "stream",
     "text": [
      "2025-08-18 10:50:37,732 INFO [2024-09-26T00:00:00] Watch our [Forum](https://forum.ecmwf.int/) for Announcements, news and other discussed topics.\n",
      "2025-08-18 10:50:38,063 INFO Request ID is 67a86ff5-a351-476f-8a88-304642d446b5\n",
      "2025-08-18 10:50:38,208 INFO status has been updated to accepted\n",
      "2025-08-18 10:50:47,065 INFO status has been updated to running\n",
      "2025-08-18 10:52:33,304 INFO status has been updated to successful\n"
     ]
    },
    {
     "data": {
      "application/vnd.jupyter.widget-view+json": {
       "model_id": "",
       "version_major": 2,
       "version_minor": 0
      },
      "text/plain": [
       "4569d05f1c09c420d9e6250f08c75bee.nc:   0%|          | 0.00/43.5k [00:00<?, ?B/s]"
      ]
     },
     "metadata": {},
     "output_type": "display_data"
    },
    {
     "name": "stdout",
     "output_type": "stream",
     "text": [
      "\n",
      "surface_thermal_radiation_downwards\n",
      "2025\n",
      "06\n"
     ]
    },
    {
     "name": "stderr",
     "output_type": "stream",
     "text": [
      "2025-08-18 10:52:34,992 INFO [2024-09-26T00:00:00] Watch our [Forum](https://forum.ecmwf.int/) for Announcements, news and other discussed topics.\n",
      "2025-08-18 10:52:35,374 INFO Request ID is fd6578b5-1846-47b5-8341-8e1ab2f8dbaf\n",
      "2025-08-18 10:52:35,513 INFO status has been updated to accepted\n",
      "2025-08-18 10:52:49,427 INFO status has been updated to running\n",
      "2025-08-18 10:55:28,503 INFO status has been updated to successful\n"
     ]
    },
    {
     "data": {
      "application/vnd.jupyter.widget-view+json": {
       "model_id": "",
       "version_major": 2,
       "version_minor": 0
      },
      "text/plain": [
       "2f968c432dfb518afb1fcba69b718788.nc:   0%|          | 0.00/82.0k [00:00<?, ?B/s]"
      ]
     },
     "metadata": {},
     "output_type": "display_data"
    },
    {
     "name": "stdout",
     "output_type": "stream",
     "text": [
      "07\n"
     ]
    },
    {
     "name": "stderr",
     "output_type": "stream",
     "text": [
      "2025-08-18 10:55:30,811 INFO [2024-09-26T00:00:00] Watch our [Forum](https://forum.ecmwf.int/) for Announcements, news and other discussed topics.\n",
      "2025-08-18 10:55:31,294 INFO Request ID is 91938fc6-e471-4b2c-a410-d00638fa6eb7\n",
      "2025-08-18 10:55:31,521 INFO status has been updated to accepted\n",
      "2025-08-18 10:55:45,790 INFO status has been updated to running\n",
      "2025-08-18 10:55:53,608 INFO status has been updated to accepted\n",
      "2025-08-18 10:56:05,199 INFO status has been updated to running\n",
      "2025-08-18 10:58:25,224 INFO status has been updated to successful\n"
     ]
    },
    {
     "data": {
      "application/vnd.jupyter.widget-view+json": {
       "model_id": "",
       "version_major": 2,
       "version_minor": 0
      },
      "text/plain": [
       "3493f9aa95c9c9e6b0563db21f497916.nc:   0%|          | 0.00/82.7k [00:00<?, ?B/s]"
      ]
     },
     "metadata": {},
     "output_type": "display_data"
    },
    {
     "name": "stdout",
     "output_type": "stream",
     "text": [
      "08\n"
     ]
    },
    {
     "name": "stderr",
     "output_type": "stream",
     "text": [
      "2025-08-18 10:58:26,944 INFO [2024-09-26T00:00:00] Watch our [Forum](https://forum.ecmwf.int/) for Announcements, news and other discussed topics.\n",
      "2025-08-18 10:58:27,291 INFO Request ID is 5ba01f4d-5eb8-4099-80ff-f8d167f45c33\n",
      "2025-08-18 10:58:27,439 INFO status has been updated to accepted\n",
      "2025-08-18 10:58:36,410 INFO status has been updated to running\n",
      "2025-08-18 11:00:22,586 INFO status has been updated to successful\n"
     ]
    },
    {
     "data": {
      "application/vnd.jupyter.widget-view+json": {
       "model_id": "",
       "version_major": 2,
       "version_minor": 0
      },
      "text/plain": [
       "b9a7f9ead6bac75e2909d429f88d0f80.nc:   0%|          | 0.00/43.4k [00:00<?, ?B/s]"
      ]
     },
     "metadata": {},
     "output_type": "display_data"
    },
    {
     "name": "stdout",
     "output_type": "stream",
     "text": [
      "\n",
      "surface_pressure\n",
      "2025\n",
      "06\n"
     ]
    },
    {
     "name": "stderr",
     "output_type": "stream",
     "text": [
      "2025-08-18 11:00:24,861 INFO [2024-09-26T00:00:00] Watch our [Forum](https://forum.ecmwf.int/) for Announcements, news and other discussed topics.\n",
      "2025-08-18 11:00:26,477 INFO Request ID is 14ae17d4-f659-4d18-8732-930ef9801328\n",
      "2025-08-18 11:00:26,609 INFO status has been updated to accepted\n",
      "2025-08-18 11:00:41,343 INFO status has been updated to running\n",
      "2025-08-18 11:00:49,099 INFO status has been updated to accepted\n",
      "2025-08-18 11:01:18,149 INFO status has been updated to running\n",
      "2025-08-18 11:03:20,661 INFO status has been updated to successful\n"
     ]
    },
    {
     "data": {
      "application/vnd.jupyter.widget-view+json": {
       "model_id": "",
       "version_major": 2,
       "version_minor": 0
      },
      "text/plain": [
       "df2d3ee1356a403c702d52b2723ed10.nc:   0%|          | 0.00/79.8k [00:00<?, ?B/s]"
      ]
     },
     "metadata": {},
     "output_type": "display_data"
    },
    {
     "name": "stdout",
     "output_type": "stream",
     "text": [
      "07\n"
     ]
    },
    {
     "name": "stderr",
     "output_type": "stream",
     "text": [
      "2025-08-18 11:03:22,710 INFO [2024-09-26T00:00:00] Watch our [Forum](https://forum.ecmwf.int/) for Announcements, news and other discussed topics.\n",
      "2025-08-18 11:03:23,047 INFO Request ID is c7b123c2-a962-4b4b-92af-feaea454de21\n",
      "2025-08-18 11:03:23,191 INFO status has been updated to accepted\n",
      "2025-08-18 11:03:31,899 INFO status has been updated to running\n",
      "2025-08-18 11:09:43,663 INFO status has been updated to successful\n"
     ]
    },
    {
     "data": {
      "application/vnd.jupyter.widget-view+json": {
       "model_id": "",
       "version_major": 2,
       "version_minor": 0
      },
      "text/plain": [
       "28c17758fcb2c6e173193b84bb151ba2.nc:   0%|          | 0.00/80.6k [00:00<?, ?B/s]"
      ]
     },
     "metadata": {},
     "output_type": "display_data"
    },
    {
     "name": "stdout",
     "output_type": "stream",
     "text": [
      "08\n"
     ]
    },
    {
     "name": "stderr",
     "output_type": "stream",
     "text": [
      "2025-08-18 11:09:45,957 INFO [2024-09-26T00:00:00] Watch our [Forum](https://forum.ecmwf.int/) for Announcements, news and other discussed topics.\n",
      "2025-08-18 11:09:46,498 INFO Request ID is 80ff8d61-7868-4939-a7e5-6b32e79d52de\n",
      "2025-08-18 11:09:46,654 INFO status has been updated to accepted\n",
      "2025-08-18 11:10:00,903 INFO status has been updated to running\n",
      "2025-08-18 11:11:03,350 INFO status has been updated to successful\n"
     ]
    },
    {
     "data": {
      "application/vnd.jupyter.widget-view+json": {
       "model_id": "",
       "version_major": 2,
       "version_minor": 0
      },
      "text/plain": [
       "16e5c563e656fc1af0c51ab144a2a2e3.nc:   0%|          | 0.00/50.7k [00:00<?, ?B/s]"
      ]
     },
     "metadata": {},
     "output_type": "display_data"
    }
   ],
   "source": [
    "import cdsapi\n",
    "import os\n",
    "\n",
    "list_var = [\n",
    "        \"surface_net_solar_radiation\",\n",
    "        \"surface_net_thermal_radiation\",\n",
    "        \"surface_solar_radiation_downwards\",\n",
    "        \"surface_thermal_radiation_downwards\",\n",
    "        \"surface_pressure\"\n",
    "    ]\n",
    "\n",
    "list_folder = [\n",
    "        \"SW_net\",\n",
    "        \"LW_net\",\n",
    "        \"SW_down\",\n",
    "        \"LW_down\",\n",
    "        \"SP\"\n",
    "    ]\n",
    "\n",
    "# years = [\n",
    "#             \"2013\", \"2014\", \"2015\", \"2016\", \"2017\", \"2018\", \"2019\",\n",
    "#             \"2020\", \"2021\", \"2022\", \"2023\", \"2024\", \"2025\"\n",
    "#         ]\n",
    "\n",
    "years = [\n",
    "            \"2025\"\n",
    "        ]\n",
    "    \n",
    "\n",
    "for var, folder in zip(list_var, list_folder):\n",
    "    print(\"\")\n",
    "    print(var)\n",
    "    \n",
    "    for year in years:\n",
    "        print(year)\n",
    "        if year == \"2025\":\n",
    "            months = [\n",
    "                \"06\", \"07\", \"08\"\n",
    "            ]\n",
    "        else:\n",
    "            months = [\n",
    "                \"01\", \"02\", \"03\",\n",
    "                \"04\", \"05\", \"06\",\n",
    "                \"07\", \"08\", \"09\",\n",
    "                \"10\", \"11\", \"12\"\n",
    "            ]\n",
    "\n",
    "        for month in months:\n",
    "            print(month)\n",
    "            # Customize your download path here\n",
    "            output_dir = \"/home/lalandmi/Dropbox/data/ESM-SnowMIP_all/Bylot/ERA5_Land/\"+folder+\"/ERA5_Land_\"+folder+\"_\"+year+\"_\"+month+\"_Bylot.nc\"\n",
    "            # os.makedirs(output_dir, exist_ok=True)\n",
    "            \n",
    "            dataset = \"reanalysis-era5-land\"\n",
    "            request = {\n",
    "                \"variable\": var,\n",
    "                \"year\": year,\n",
    "                \"month\": month,\n",
    "                \"day\": [\n",
    "                    \"01\", \"02\", \"03\",\n",
    "                    \"04\", \"05\", \"06\",\n",
    "                    \"07\", \"08\", \"09\",\n",
    "                    \"10\", \"11\", \"12\",\n",
    "                    \"13\", \"14\", \"15\",\n",
    "                    \"16\", \"17\", \"18\",\n",
    "                    \"19\", \"20\", \"21\",\n",
    "                    \"22\", \"23\", \"24\",\n",
    "                    \"25\", \"26\", \"27\",\n",
    "                    \"28\", \"29\", \"30\",\n",
    "                    \"31\"\n",
    "                ],\n",
    "                \"time\": [\n",
    "                    \"00:00\", \"01:00\", \"02:00\",\n",
    "                    \"03:00\", \"04:00\", \"05:00\",\n",
    "                    \"06:00\", \"07:00\", \"08:00\",\n",
    "                    \"09:00\", \"10:00\", \"11:00\",\n",
    "                    \"12:00\", \"13:00\", \"14:00\",\n",
    "                    \"15:00\", \"16:00\", \"17:00\",\n",
    "                    \"18:00\", \"19:00\", \"20:00\",\n",
    "                    \"21:00\", \"22:00\", \"23:00\"\n",
    "                ],\n",
    "                \"data_format\": \"netcdf\",\n",
    "                \"download_format\": \"unarchived\",\n",
    "                \"area\": [73.25, -80.05, 73.1, -79.9]\n",
    "            }\n",
    "            \n",
    "            client = cdsapi.Client()\n",
    "            client.retrieve(dataset, request).download(output_dir)\n"
   ]
  }
 ],
 "metadata": {
  "kernelspec": {
   "display_name": "Python [conda env:miniconda3-sc2_v0] *",
   "language": "python",
   "name": "conda-env-miniconda3-sc2_v0-py"
  },
  "language_info": {
   "codemirror_mode": {
    "name": "ipython",
    "version": 3
   },
   "file_extension": ".py",
   "mimetype": "text/x-python",
   "name": "python",
   "nbconvert_exporter": "python",
   "pygments_lexer": "ipython3",
   "version": "3.10.13"
  }
 },
 "nbformat": 4,
 "nbformat_minor": 5
}
